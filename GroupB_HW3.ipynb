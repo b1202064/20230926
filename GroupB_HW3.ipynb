{
  "nbformat": 4,
  "nbformat_minor": 0,
  "metadata": {
    "colab": {
      "provenance": []
    },
    "kernelspec": {
      "name": "python3",
      "display_name": "Python 3"
    },
    "language_info": {
      "name": "python"
    }
  },
  "cells": [
    {
      "cell_type": "code",
      "source": [
        "print(\"I'm a student\" )"
      ],
      "metadata": {
        "colab": {
          "base_uri": "https://localhost:8080/"
        },
        "id": "AycLKrUMdLvq",
        "outputId": "5a3333db-084a-48a9-cae0-bafcb152bfcf"
      },
      "execution_count": 2,
      "outputs": [
        {
          "output_type": "stream",
          "name": "stdout",
          "text": [
            "I'm a student\n"
          ]
        }
      ]
    },
    {
      "cell_type": "code",
      "source": [
        "a=float(input(\"輸入x1:\"))\n",
        "b=float(input(\"輸入y1:\"))\n",
        "c=float(input(\"輸入x2:\"))\n",
        "d=float(input(\"輸入y2:\"))\n",
        "print(\"AB的距離是\",(((a-c)**2+(b-d)**2)**0.5))"
      ],
      "metadata": {
        "colab": {
          "base_uri": "https://localhost:8080/"
        },
        "id": "yjMbNWgydz2_",
        "outputId": "cc759b19-d701-493c-8a65-22a0afaebd29"
      },
      "execution_count": 7,
      "outputs": [
        {
          "output_type": "stream",
          "name": "stdout",
          "text": [
            "輸入x1:3\n",
            "輸入y1:6\n",
            "輸入x2:8\n",
            "輸入y2:18\n",
            "AB的距離是 13.0\n"
          ]
        }
      ]
    },
    {
      "cell_type": "code",
      "source": [
        "a=float(input(\"請輸入身高(公尺):\"))\n",
        "b=float(input(\"請輸入體重(公斤):\"))\n",
        "b/=a\n",
        "b/=a\n",
        "print(b>18.5)"
      ],
      "metadata": {
        "colab": {
          "base_uri": "https://localhost:8080/"
        },
        "id": "7QIkjBqCfqwo",
        "outputId": "5f7039b7-f605-4614-c3f1-b09cd993e5d5"
      },
      "execution_count": 10,
      "outputs": [
        {
          "output_type": "stream",
          "name": "stdout",
          "text": [
            "請輸入身高(公尺):1.5\n",
            "請輸入體重(公斤):45\n",
            "True\n"
          ]
        }
      ]
    }
  ]
}